{
 "cells": [
  {
   "cell_type": "markdown",
   "id": "445c091f",
   "metadata": {
    "colab_type": "text",
    "id": "3DR-eO17geWu"
   },
   "source": [
    "# Convolutional Neural Network"
   ]
  },
  {
   "cell_type": "markdown",
   "id": "49c800fd",
   "metadata": {
    "colab_type": "text",
    "id": "EMefrVPCg-60"
   },
   "source": [
    "### Importing the libraries"
   ]
  },
  {
   "cell_type": "code",
   "execution_count": 1,
   "id": "b7d7c035",
   "metadata": {
    "colab": {},
    "colab_type": "code",
    "id": "sCV30xyVhFbE"
   },
   "outputs": [
    {
     "name": "stdout",
     "output_type": "stream",
     "text": [
      "WARNING:tensorflow:From C:\\Users\\udaya\\anaconda3\\Lib\\site-packages\\keras\\src\\losses.py:2976: The name tf.losses.sparse_softmax_cross_entropy is deprecated. Please use tf.compat.v1.losses.sparse_softmax_cross_entropy instead.\n",
      "\n"
     ]
    }
   ],
   "source": [
    "import tensorflow as tf"
   ]
  },
  {
   "cell_type": "code",
   "execution_count": 2,
   "id": "cfe58266",
   "metadata": {
    "colab": {},
    "colab_type": "code",
    "id": "FIleuCAjoFD8"
   },
   "outputs": [
    {
     "data": {
      "text/plain": [
       "'2.15.0'"
      ]
     },
     "execution_count": 2,
     "metadata": {},
     "output_type": "execute_result"
    }
   ],
   "source": [
    "tf.__version__"
   ]
  },
  {
   "cell_type": "markdown",
   "id": "bd197357",
   "metadata": {
    "colab_type": "text",
    "id": "oxQxCBWyoGPE"
   },
   "source": [
    "## Part 1 - Data Preprocessing"
   ]
  },
  {
   "cell_type": "markdown",
   "id": "2cd0d903",
   "metadata": {},
   "source": [
    "Image Augumentation"
   ]
  },
  {
   "cell_type": "markdown",
   "id": "3011c45f",
   "metadata": {
    "colab_type": "text",
    "id": "MvE-heJNo3GG"
   },
   "source": [
    "### Preprocessing the Training set"
   ]
  },
  {
   "cell_type": "code",
   "execution_count": 3,
   "id": "46e81035",
   "metadata": {},
   "outputs": [],
   "source": [
    "from keras.preprocessing.image import ImageDataGenerator"
   ]
  },
  {
   "cell_type": "code",
   "execution_count": 4,
   "id": "8e9117e9",
   "metadata": {
    "colab": {},
    "colab_type": "code",
    "id": "0koUcJMJpEBD"
   },
   "outputs": [
    {
     "name": "stdout",
     "output_type": "stream",
     "text": [
      "Found 235 images belonging to 47 classes.\n"
     ]
    }
   ],
   "source": [
    "train_datagen = ImageDataGenerator(rescale = 1./255,\n",
    "                                   shear_range = 0.2,\n",
    "                                   zoom_range = 0.2,\n",
    "                                   horizontal_flip = True)\n",
    "training_set = train_datagen.flow_from_directory(r\"C:\\Users\\udaya\\Downloads\\characters\\Chars\",\n",
    "                                                 target_size = (64, 64), #final size before feed into CNN\n",
    "                                                 batch_size = 32, #how many images in each batch\n",
    "                                                 class_mode = 'categorical') #binary/categorical"
   ]
  },
  {
   "cell_type": "markdown",
   "id": "24098f4b",
   "metadata": {
    "colab_type": "text",
    "id": "af8O4l90gk7B"
   },
   "source": [
    "## Part 2 - Building the CNN"
   ]
  },
  {
   "cell_type": "code",
   "execution_count": 5,
   "id": "326560e5",
   "metadata": {},
   "outputs": [],
   "source": [
    "import tensorflow as tf"
   ]
  },
  {
   "cell_type": "markdown",
   "id": "b892f721",
   "metadata": {
    "colab_type": "text",
    "id": "ces1gXY2lmoX"
   },
   "source": [
    "### Initialising the CNN"
   ]
  },
  {
   "cell_type": "code",
   "execution_count": 6,
   "id": "8b9e569c",
   "metadata": {
    "colab": {},
    "colab_type": "code",
    "id": "SAUt4UMPlhLS"
   },
   "outputs": [
    {
     "name": "stdout",
     "output_type": "stream",
     "text": [
      "WARNING:tensorflow:From C:\\Users\\udaya\\anaconda3\\Lib\\site-packages\\keras\\src\\backend.py:873: The name tf.get_default_graph is deprecated. Please use tf.compat.v1.get_default_graph instead.\n",
      "\n"
     ]
    }
   ],
   "source": [
    "cnn = tf.keras.models.Sequential()"
   ]
  },
  {
   "cell_type": "markdown",
   "id": "493156dd",
   "metadata": {
    "colab_type": "text",
    "id": "u5YJj_XMl5LF"
   },
   "source": [
    "### Step 1 - Convolution"
   ]
  },
  {
   "cell_type": "code",
   "execution_count": 7,
   "id": "f080b47e",
   "metadata": {
    "colab": {},
    "colab_type": "code",
    "id": "XPzPrMckl-hV"
   },
   "outputs": [],
   "source": [
    "cnn.add(tf.keras.layers.Conv2D(filters=32, kernel_size=3, activation='relu', input_shape=[64, 64, 3]))"
   ]
  },
  {
   "cell_type": "markdown",
   "id": "721cb878",
   "metadata": {
    "colab_type": "text",
    "id": "tf87FpvxmNOJ"
   },
   "source": [
    "### Step 2 - Pooling"
   ]
  },
  {
   "cell_type": "code",
   "execution_count": 8,
   "id": "42cc6ca9",
   "metadata": {
    "colab": {},
    "colab_type": "code",
    "id": "ncpqPl69mOac"
   },
   "outputs": [
    {
     "name": "stdout",
     "output_type": "stream",
     "text": [
      "WARNING:tensorflow:From C:\\Users\\udaya\\anaconda3\\Lib\\site-packages\\keras\\src\\layers\\pooling\\max_pooling2d.py:161: The name tf.nn.max_pool is deprecated. Please use tf.nn.max_pool2d instead.\n",
      "\n"
     ]
    }
   ],
   "source": [
    "cnn.add(tf.keras.layers.MaxPool2D(pool_size=2,strides=2))"
   ]
  },
  {
   "cell_type": "markdown",
   "id": "0d997d70",
   "metadata": {
    "colab_type": "text",
    "id": "xaTOgD8rm4mU"
   },
   "source": [
    "### Adding a second convolutional layer"
   ]
  },
  {
   "cell_type": "code",
   "execution_count": 9,
   "id": "0eb01fbb",
   "metadata": {
    "colab": {},
    "colab_type": "code",
    "id": "i_-FZjn_m8gk"
   },
   "outputs": [],
   "source": [
    "cnn.add(tf.keras.layers.Conv2D(filters=32, kernel_size=3, activation='relu'))\n",
    "cnn.add(tf.keras.layers.MaxPool2D(pool_size=2,strides=2))"
   ]
  },
  {
   "cell_type": "markdown",
   "id": "7e99d9ee",
   "metadata": {},
   "source": [
    "### Third"
   ]
  },
  {
   "cell_type": "code",
   "execution_count": 10,
   "id": "56b7e07c",
   "metadata": {},
   "outputs": [],
   "source": [
    "cnn.add(tf.keras.layers.Conv2D(filters=64, kernel_size=3, activation='relu', input_shape=[64, 64, 3]))\n",
    "cnn.add(tf.keras.layers.MaxPool2D(pool_size=2,strides=2))"
   ]
  },
  {
   "cell_type": "code",
   "execution_count": 11,
   "id": "93436f67",
   "metadata": {},
   "outputs": [],
   "source": [
    "cnn.add(tf.keras.layers.Conv2D(filters=128, kernel_size=3, activation='relu'))\n",
    "cnn.add(tf.keras.layers.MaxPool2D(pool_size=2,strides=2))"
   ]
  },
  {
   "cell_type": "markdown",
   "id": "cd0879b6",
   "metadata": {
    "colab_type": "text",
    "id": "tmiEuvTunKfk"
   },
   "source": [
    "### Step 3 - Flattening"
   ]
  },
  {
   "cell_type": "code",
   "execution_count": 12,
   "id": "76b1f412",
   "metadata": {
    "colab": {},
    "colab_type": "code",
    "id": "6AZeOGCvnNZn"
   },
   "outputs": [],
   "source": [
    "cnn.add(tf.keras.layers.Flatten())"
   ]
  },
  {
   "cell_type": "markdown",
   "id": "4a58e33c",
   "metadata": {
    "colab_type": "text",
    "id": "dAoSECOm203v"
   },
   "source": [
    "### Step 4 - Full Connection"
   ]
  },
  {
   "cell_type": "code",
   "execution_count": 13,
   "id": "507ef70d",
   "metadata": {
    "colab": {},
    "colab_type": "code",
    "id": "8GtmUlLd26Nq"
   },
   "outputs": [],
   "source": [
    "cnn.add(tf.keras.layers.Dense(units=128,activation='relu'))"
   ]
  },
  {
   "cell_type": "code",
   "execution_count": 14,
   "id": "f561a9d9",
   "metadata": {},
   "outputs": [],
   "source": [
    "cnn.add(tf.keras.layers.Dense(units=246,activation='relu'))"
   ]
  },
  {
   "cell_type": "markdown",
   "id": "8a05f4a0",
   "metadata": {
    "colab_type": "text",
    "id": "yTldFvbX28Na"
   },
   "source": [
    "### Step 5 - Output Layer"
   ]
  },
  {
   "cell_type": "code",
   "execution_count": 15,
   "id": "c978061c",
   "metadata": {
    "colab": {},
    "colab_type": "code",
    "id": "1p_Zj1Mc3Ko_"
   },
   "outputs": [],
   "source": [
    "cnn.add(tf.keras.layers.Dense(units=47, activation='softmax'))"
   ]
  },
  {
   "cell_type": "markdown",
   "id": "f14f08cf",
   "metadata": {
    "colab_type": "text",
    "id": "D6XkI90snSDl"
   },
   "source": [
    "## Part 3 - Training the CNN"
   ]
  },
  {
   "cell_type": "markdown",
   "id": "1e0ab26b",
   "metadata": {
    "colab_type": "text",
    "id": "vfrFQACEnc6i"
   },
   "source": [
    "### Compiling the CNN"
   ]
  },
  {
   "cell_type": "code",
   "execution_count": 16,
   "id": "f2f16878",
   "metadata": {
    "colab": {},
    "colab_type": "code",
    "id": "NALksrNQpUlJ"
   },
   "outputs": [
    {
     "name": "stdout",
     "output_type": "stream",
     "text": [
      "WARNING:tensorflow:From C:\\Users\\udaya\\anaconda3\\Lib\\site-packages\\keras\\src\\optimizers\\__init__.py:309: The name tf.train.Optimizer is deprecated. Please use tf.compat.v1.train.Optimizer instead.\n",
      "\n"
     ]
    }
   ],
   "source": [
    "cnn.compile(optimizer = 'adam', loss = 'categorical_crossentropy', metrics = ['accuracy'])"
   ]
  },
  {
   "cell_type": "markdown",
   "id": "392c54df",
   "metadata": {
    "colab_type": "text",
    "id": "ehS-v3MIpX2h"
   },
   "source": [
    "### Training the CNN on the Training set and evaluating it on the Test set"
   ]
  },
  {
   "cell_type": "code",
   "execution_count": 17,
   "id": "f069f46c",
   "metadata": {
    "colab": {},
    "colab_type": "code",
    "id": "XUj1W4PJptta"
   },
   "outputs": [
    {
     "name": "stdout",
     "output_type": "stream",
     "text": [
      "Epoch 1/80\n",
      "WARNING:tensorflow:From C:\\Users\\udaya\\anaconda3\\Lib\\site-packages\\keras\\src\\utils\\tf_utils.py:492: The name tf.ragged.RaggedTensorValue is deprecated. Please use tf.compat.v1.ragged.RaggedTensorValue instead.\n",
      "\n",
      "WARNING:tensorflow:From C:\\Users\\udaya\\anaconda3\\Lib\\site-packages\\keras\\src\\engine\\base_layer_utils.py:384: The name tf.executing_eagerly_outside_functions is deprecated. Please use tf.compat.v1.executing_eagerly_outside_functions instead.\n",
      "\n",
      "8/8 [==============================] - 3s 136ms/step - loss: 3.8602 - accuracy: 0.0085\n",
      "Epoch 2/80\n",
      "8/8 [==============================] - 1s 128ms/step - loss: 3.8499 - accuracy: 0.0170\n",
      "Epoch 3/80\n",
      "8/8 [==============================] - 1s 146ms/step - loss: 3.8458 - accuracy: 0.0298\n",
      "Epoch 4/80\n",
      "8/8 [==============================] - 1s 175ms/step - loss: 3.8355 - accuracy: 0.0340\n",
      "Epoch 5/80\n",
      "8/8 [==============================] - 1s 141ms/step - loss: 3.7976 - accuracy: 0.0553\n",
      "Epoch 6/80\n",
      "8/8 [==============================] - 1s 125ms/step - loss: 3.6263 - accuracy: 0.0809\n",
      "Epoch 7/80\n",
      "8/8 [==============================] - 1s 124ms/step - loss: 3.1111 - accuracy: 0.1830\n",
      "Epoch 8/80\n",
      "8/8 [==============================] - 1s 140ms/step - loss: 2.4170 - accuracy: 0.2809\n",
      "Epoch 9/80\n",
      "8/8 [==============================] - 1s 114ms/step - loss: 1.9857 - accuracy: 0.4128\n",
      "Epoch 10/80\n",
      "8/8 [==============================] - 1s 141ms/step - loss: 1.7560 - accuracy: 0.4511\n",
      "Epoch 11/80\n",
      "8/8 [==============================] - 1s 131ms/step - loss: 1.3476 - accuracy: 0.5702\n",
      "Epoch 12/80\n",
      "8/8 [==============================] - 1s 149ms/step - loss: 1.0452 - accuracy: 0.6809\n",
      "Epoch 13/80\n",
      "8/8 [==============================] - 1s 124ms/step - loss: 0.8524 - accuracy: 0.6851\n",
      "Epoch 14/80\n",
      "8/8 [==============================] - 1s 118ms/step - loss: 0.9710 - accuracy: 0.7021\n",
      "Epoch 15/80\n",
      "8/8 [==============================] - 1s 114ms/step - loss: 0.8815 - accuracy: 0.7277\n",
      "Epoch 16/80\n",
      "8/8 [==============================] - 1s 133ms/step - loss: 0.5644 - accuracy: 0.8340\n",
      "Epoch 17/80\n",
      "8/8 [==============================] - 1s 124ms/step - loss: 0.4756 - accuracy: 0.8340\n",
      "Epoch 18/80\n",
      "8/8 [==============================] - 1s 122ms/step - loss: 0.5058 - accuracy: 0.8511\n",
      "Epoch 19/80\n",
      "8/8 [==============================] - 1s 118ms/step - loss: 0.3661 - accuracy: 0.9021\n",
      "Epoch 20/80\n",
      "8/8 [==============================] - 1s 132ms/step - loss: 0.3623 - accuracy: 0.8638\n",
      "Epoch 21/80\n",
      "8/8 [==============================] - 1s 123ms/step - loss: 0.6115 - accuracy: 0.8043\n",
      "Epoch 22/80\n",
      "8/8 [==============================] - 1s 135ms/step - loss: 0.4405 - accuracy: 0.8426\n",
      "Epoch 23/80\n",
      "8/8 [==============================] - 1s 121ms/step - loss: 0.3705 - accuracy: 0.8681\n",
      "Epoch 24/80\n",
      "8/8 [==============================] - 1s 131ms/step - loss: 0.3449 - accuracy: 0.8979\n",
      "Epoch 25/80\n",
      "8/8 [==============================] - 1s 132ms/step - loss: 0.1887 - accuracy: 0.9319\n",
      "Epoch 26/80\n",
      "8/8 [==============================] - 1s 123ms/step - loss: 0.2425 - accuracy: 0.9234\n",
      "Epoch 27/80\n",
      "8/8 [==============================] - 1s 133ms/step - loss: 0.2529 - accuracy: 0.9021\n",
      "Epoch 28/80\n",
      "8/8 [==============================] - 1s 136ms/step - loss: 0.2946 - accuracy: 0.9149\n",
      "Epoch 29/80\n",
      "8/8 [==============================] - 1s 136ms/step - loss: 0.2061 - accuracy: 0.9362\n",
      "Epoch 30/80\n",
      "8/8 [==============================] - 1s 123ms/step - loss: 0.1813 - accuracy: 0.9489\n",
      "Epoch 31/80\n",
      "8/8 [==============================] - 1s 119ms/step - loss: 0.1014 - accuracy: 0.9745\n",
      "Epoch 32/80\n",
      "8/8 [==============================] - 1s 126ms/step - loss: 0.1578 - accuracy: 0.9489\n",
      "Epoch 33/80\n",
      "8/8 [==============================] - 1s 124ms/step - loss: 0.1729 - accuracy: 0.9404\n",
      "Epoch 34/80\n",
      "8/8 [==============================] - 1s 127ms/step - loss: 0.1096 - accuracy: 0.9447\n",
      "Epoch 35/80\n",
      "8/8 [==============================] - 1s 116ms/step - loss: 0.0941 - accuracy: 0.9745\n",
      "Epoch 36/80\n",
      "8/8 [==============================] - 1s 152ms/step - loss: 0.2719 - accuracy: 0.9404\n",
      "Epoch 37/80\n",
      "8/8 [==============================] - 2s 206ms/step - loss: 0.2569 - accuracy: 0.9234\n",
      "Epoch 38/80\n",
      "8/8 [==============================] - 1s 122ms/step - loss: 0.1441 - accuracy: 0.9574\n",
      "Epoch 39/80\n",
      "8/8 [==============================] - 1s 140ms/step - loss: 0.1164 - accuracy: 0.9660\n",
      "Epoch 40/80\n",
      "8/8 [==============================] - 1s 133ms/step - loss: 0.1101 - accuracy: 0.9745\n",
      "Epoch 41/80\n",
      "8/8 [==============================] - 1s 140ms/step - loss: 0.1618 - accuracy: 0.9617\n",
      "Epoch 42/80\n",
      "8/8 [==============================] - 1s 133ms/step - loss: 0.1815 - accuracy: 0.9319\n",
      "Epoch 43/80\n",
      "8/8 [==============================] - 1s 134ms/step - loss: 0.1428 - accuracy: 0.9362\n",
      "Epoch 44/80\n",
      "8/8 [==============================] - 1s 158ms/step - loss: 0.1209 - accuracy: 0.9702\n",
      "Epoch 45/80\n",
      "8/8 [==============================] - 1s 151ms/step - loss: 0.0784 - accuracy: 0.9745\n",
      "Epoch 46/80\n",
      "8/8 [==============================] - 1s 144ms/step - loss: 0.0798 - accuracy: 0.9745\n",
      "Epoch 47/80\n",
      "8/8 [==============================] - 1s 140ms/step - loss: 0.0349 - accuracy: 0.9915\n",
      "Epoch 48/80\n",
      "8/8 [==============================] - 1s 131ms/step - loss: 0.0405 - accuracy: 0.9872\n",
      "Epoch 49/80\n",
      "8/8 [==============================] - 1s 129ms/step - loss: 0.0601 - accuracy: 0.9787\n",
      "Epoch 50/80\n",
      "8/8 [==============================] - 1s 129ms/step - loss: 0.1224 - accuracy: 0.9702\n",
      "Epoch 51/80\n",
      "8/8 [==============================] - 1s 146ms/step - loss: 0.0284 - accuracy: 0.9915\n",
      "Epoch 52/80\n",
      "8/8 [==============================] - 1s 144ms/step - loss: 0.0124 - accuracy: 1.0000\n",
      "Epoch 53/80\n",
      "8/8 [==============================] - 1s 141ms/step - loss: 0.0392 - accuracy: 0.9915\n",
      "Epoch 54/80\n",
      "8/8 [==============================] - 1s 135ms/step - loss: 0.0231 - accuracy: 0.9957\n",
      "Epoch 55/80\n",
      "8/8 [==============================] - 1s 135ms/step - loss: 0.0829 - accuracy: 0.9660\n",
      "Epoch 56/80\n",
      "8/8 [==============================] - 1s 139ms/step - loss: 0.0695 - accuracy: 0.9872\n",
      "Epoch 57/80\n",
      "8/8 [==============================] - 1s 129ms/step - loss: 0.0685 - accuracy: 0.9872\n",
      "Epoch 58/80\n",
      "8/8 [==============================] - 1s 131ms/step - loss: 0.0427 - accuracy: 0.9830\n",
      "Epoch 59/80\n",
      "8/8 [==============================] - 1s 135ms/step - loss: 0.0394 - accuracy: 0.9787\n",
      "Epoch 60/80\n",
      "8/8 [==============================] - 1s 142ms/step - loss: 0.0747 - accuracy: 0.9830\n",
      "Epoch 61/80\n",
      "8/8 [==============================] - 1s 138ms/step - loss: 0.0564 - accuracy: 0.9745\n",
      "Epoch 62/80\n",
      "8/8 [==============================] - 1s 129ms/step - loss: 0.0739 - accuracy: 0.9787\n",
      "Epoch 63/80\n",
      "8/8 [==============================] - 1s 118ms/step - loss: 0.1062 - accuracy: 0.9617\n",
      "Epoch 64/80\n",
      "8/8 [==============================] - 1s 108ms/step - loss: 0.1389 - accuracy: 0.9702\n",
      "Epoch 65/80\n",
      "8/8 [==============================] - 1s 123ms/step - loss: 0.1332 - accuracy: 0.9532\n",
      "Epoch 66/80\n",
      "8/8 [==============================] - 1s 138ms/step - loss: 0.1131 - accuracy: 0.9574\n",
      "Epoch 67/80\n",
      "8/8 [==============================] - 1s 127ms/step - loss: 0.1393 - accuracy: 0.9617\n",
      "Epoch 68/80\n",
      "8/8 [==============================] - 1s 139ms/step - loss: 0.0798 - accuracy: 0.9745\n",
      "Epoch 69/80\n",
      "8/8 [==============================] - 1s 119ms/step - loss: 0.1019 - accuracy: 0.9660\n",
      "Epoch 70/80\n",
      "8/8 [==============================] - 1s 150ms/step - loss: 0.0760 - accuracy: 0.9787\n",
      "Epoch 71/80\n",
      "8/8 [==============================] - 1s 138ms/step - loss: 0.0640 - accuracy: 0.9830\n",
      "Epoch 72/80\n",
      "8/8 [==============================] - 1s 133ms/step - loss: 0.0859 - accuracy: 0.9745\n",
      "Epoch 73/80\n",
      "8/8 [==============================] - 1s 149ms/step - loss: 0.0490 - accuracy: 0.9915\n",
      "Epoch 74/80\n",
      "8/8 [==============================] - 1s 164ms/step - loss: 0.0489 - accuracy: 0.9872\n",
      "Epoch 75/80\n",
      "8/8 [==============================] - 1s 163ms/step - loss: 0.0492 - accuracy: 0.9830\n",
      "Epoch 76/80\n",
      "8/8 [==============================] - 1s 136ms/step - loss: 0.0553 - accuracy: 0.9787\n",
      "Epoch 77/80\n",
      "8/8 [==============================] - 1s 146ms/step - loss: 0.0552 - accuracy: 0.9787\n",
      "Epoch 78/80\n",
      "8/8 [==============================] - 1s 148ms/step - loss: 0.0834 - accuracy: 0.9660\n",
      "Epoch 79/80\n"
     ]
    },
    {
     "name": "stdout",
     "output_type": "stream",
     "text": [
      "8/8 [==============================] - 1s 136ms/step - loss: 0.0772 - accuracy: 0.9702\n",
      "Epoch 80/80\n",
      "8/8 [==============================] - 1s 124ms/step - loss: 0.1050 - accuracy: 0.9745\n"
     ]
    },
    {
     "data": {
      "text/plain": [
       "<keras.src.callbacks.History at 0x1ca00685990>"
      ]
     },
     "execution_count": 17,
     "metadata": {},
     "output_type": "execute_result"
    }
   ],
   "source": [
    "cnn.fit(x=training_set, epochs=80)"
   ]
  },
  {
   "cell_type": "markdown",
   "id": "c4127c2a",
   "metadata": {
    "colab_type": "text",
    "id": "U3PZasO0006Z"
   },
   "source": [
    "## Part 4 - Making a single prediction"
   ]
  },
  {
   "cell_type": "code",
   "execution_count": 18,
   "id": "a4d3c09d",
   "metadata": {},
   "outputs": [
    {
     "name": "stdout",
     "output_type": "stream",
     "text": [
      "Class Names:\n",
      "0\n",
      "1\n",
      "10\n",
      "11\n",
      "12\n",
      "13\n",
      "14\n",
      "15\n",
      "16\n",
      "17\n",
      "18\n",
      "19\n",
      "2\n",
      "20\n",
      "21\n",
      "22\n",
      "23\n",
      "24\n",
      "25\n",
      "26\n",
      "27\n",
      "28\n",
      "29\n",
      "3\n",
      "30\n",
      "31\n",
      "32\n",
      "33\n",
      "34\n",
      "35\n",
      "36\n",
      "37\n",
      "38\n",
      "39\n",
      "4\n",
      "40\n",
      "41\n",
      "42\n",
      "43\n",
      "44\n",
      "45\n",
      "46\n",
      "5\n",
      "6\n",
      "7\n",
      "8\n",
      "9\n"
     ]
    }
   ],
   "source": [
    "# Access class names from the training set\n",
    "class_names = list(training_set.class_indices.keys())\n",
    "\n",
    "# Display all class names\n",
    "print(\"Class Names:\")\n",
    "for class_name in class_names:\n",
    "    print(class_name)"
   ]
  },
  {
   "cell_type": "code",
   "execution_count": 19,
   "id": "40938e2e",
   "metadata": {},
   "outputs": [],
   "source": [
    "# Define the mapping of Odia letters to numerical labels\n",
    "odia_mapping = {\n",
    "    0: 'ଅ',\n",
    "    1: 'ଆ',\n",
    "    2: 'ଇ',\n",
    "    3: 'ଈ',\n",
    "    4: 'ଉ',\n",
    "    5: 'ଊ',\n",
    "    6: 'ଋ',\n",
    "    7: 'ଏ',\n",
    "    8: 'ଐ',\n",
    "    9: 'ଓ',\n",
    "    10: 'ଔ',\n",
    "    11: 'କ',\n",
    "    12: 'ଖ',\n",
    "    13: 'ଗ',\n",
    "    14: 'ଘ',\n",
    "    15: 'ଙ',\n",
    "    16: 'ଚ',\n",
    "    17: 'ଛ',\n",
    "    18: 'ଜ',\n",
    "    19: 'ଝ',\n",
    "    20: 'ଞ',\n",
    "    21: 'ଟ',\n",
    "    22: 'ଠ',\n",
    "    23: 'ଡ',\n",
    "    24: 'ଢ',\n",
    "    25: 'ଣ',\n",
    "    26: 'ତ',\n",
    "    27: 'ଥ',\n",
    "    28: 'ଦ',\n",
    "    29: 'ଧ',\n",
    "    30: 'ନ',\n",
    "    31: 'ପ',\n",
    "    32: 'ଫ',\n",
    "    33: 'ବ',\n",
    "    34: 'ଭ',\n",
    "    35: 'ମ',\n",
    "    36: 'ଯ',\n",
    "    37: 'ର',\n",
    "    38: 'ଲ',\n",
    "    39: 'ଳ',\n",
    "    40: 'ଵ',\n",
    "    41: 'ଶ',\n",
    "    42: 'ଷ',\n",
    "    43: 'ସ',\n",
    "    44: 'ହ',\n",
    "    45: '଼',\n",
    "    46: 'ା'\n",
    "}"
   ]
  },
  {
   "cell_type": "code",
   "execution_count": 20,
   "id": "239225c4",
   "metadata": {},
   "outputs": [],
   "source": [
    "from keras.preprocessing import image\n",
    "import numpy as np\n",
    "\n",
    "# Load an image for prediction\n",
    "img_path = r\"C:\\Users\\udaya\\Downloads\\characters\\Chars\\1\\2.jpg\"\n",
    "img = image.load_img(img_path, target_size=(64, 64))\n",
    "img = image.img_to_array(img)\n",
    "img = np.expand_dims(img, axis=0)"
   ]
  },
  {
   "cell_type": "code",
   "execution_count": 21,
   "id": "3184ff4b",
   "metadata": {},
   "outputs": [
    {
     "name": "stdout",
     "output_type": "stream",
     "text": [
      "1/1 [==============================] - 0s 199ms/step\n"
     ]
    }
   ],
   "source": [
    "# Make prediction\n",
    "prediction = cnn.predict(img)"
   ]
  },
  {
   "cell_type": "code",
   "execution_count": 22,
   "id": "997d87e4",
   "metadata": {},
   "outputs": [
    {
     "name": "stdout",
     "output_type": "stream",
     "text": [
      "Predicted Odia Letter: ଆ\n"
     ]
    }
   ],
   "source": [
    "# Make prediction\n",
    "predicted_class = np.argmax(prediction)\n",
    "\n",
    "# Map predicted class to Odia letter\n",
    "predicted_odia_letter = odia_mapping[predicted_class]\n",
    "\n",
    "# Display predicted Odia letter\n",
    "print(\"Predicted Odia Letter:\", predicted_odia_letter)"
   ]
  },
  {
   "cell_type": "code",
   "execution_count": 23,
   "id": "4ecab4e7",
   "metadata": {},
   "outputs": [
    {
     "name": "stderr",
     "output_type": "stream",
     "text": [
      "C:\\Users\\udaya\\anaconda3\\Lib\\site-packages\\keras\\src\\engine\\training.py:3103: UserWarning: You are saving your model as an HDF5 file via `model.save()`. This file format is considered legacy. We recommend using instead the native Keras format, e.g. `model.save('my_model.keras')`.\n",
      "  saving_api.save_model(\n"
     ]
    }
   ],
   "source": [
    "cnn.save('my_model.h5')\n",
    "\n",
    "# Load the model from HDF5 file\n",
    "loaded_model = tf.keras.models.load_model('my_model.h5')"
   ]
  }
 ],
 "metadata": {
  "kernelspec": {
   "display_name": "Python 3 (ipykernel)",
   "language": "python",
   "name": "python3"
  },
  "language_info": {
   "codemirror_mode": {
    "name": "ipython",
    "version": 3
   },
   "file_extension": ".py",
   "mimetype": "text/x-python",
   "name": "python",
   "nbconvert_exporter": "python",
   "pygments_lexer": "ipython3",
   "version": "3.11.5"
  }
 },
 "nbformat": 4,
 "nbformat_minor": 5
}
